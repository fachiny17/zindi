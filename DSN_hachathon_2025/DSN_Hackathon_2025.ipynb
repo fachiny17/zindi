{
  "nbformat": 4,
  "nbformat_minor": 0,
  "metadata": {
    "colab": {
      "provenance": []
    },
    "kernelspec": {
      "name": "python3",
      "display_name": "Python 3"
    },
    "language_info": {
      "name": "python"
    },
    "widgets": {
      "application/vnd.jupyter.widget-state+json": {
        "a7ba83e4ee0d402287624ca1aacc4b7f": {
          "model_module": "catboost-widget",
          "model_name": "CatboostWidgetModel",
          "model_module_version": "^1.0.0",
          "state": {
            "_dom_classes": [],
            "_model_module": "catboost-widget",
            "_model_module_version": "^1.0.0",
            "_model_name": "CatboostWidgetModel",
            "_view_count": null,
            "_view_module": "catboost-widget",
            "_view_module_version": "^1.0.0",
            "_view_name": "CatboostWidgetView",
            "data": {
              "catboost_info": {
                "path": "catboost_info",
                "name": "catboost_info",
                "content": {
                  "passed_iterations": 200,
                  "total_iterations": 1000,
                  "data": {
                    "iterations": [
                      {
                        "learn": [
                          4279.910527
                        ],
                        "iteration": 0,
                        "passed_time": 0.07371384101,
                        "remaining_time": 73.64012717,
                        "test": [
                          4215.18244
                        ]
                      },
                      {
                        "learn": [
                          2839.02604
                        ],
                        "iteration": 50,
                        "passed_time": 3.42599025,
                        "remaining_time": 63.75028916,
                        "test": [
                          2952.43076
                        ]
                      },
                      {
                        "learn": [
                          2786.333031
                        ],
                        "iteration": 100,
                        "passed_time": 8.725900093,
                        "remaining_time": 77.66915033,
                        "test": [
                          2948.561997
                        ]
                      },
                      {
                        "learn": [
                          2752.097873
                        ],
                        "iteration": 150,
                        "passed_time": 12.0153033,
                        "remaining_time": 67.55624171,
                        "test": [
                          2951.10564
                        ]
                      },
                      {
                        "learn": [
                          2727.924182
                        ],
                        "iteration": 200,
                        "passed_time": 15.40019097,
                        "remaining_time": 61.21767456,
                        "test": [
                          2949.471264
                        ]
                      }
                    ],
                    "meta": {
                      "test_sets": [
                        "test"
                      ],
                      "test_metrics": [
                        {
                          "best_value": "Min",
                          "name": "RMSE"
                        }
                      ],
                      "learn_metrics": [
                        {
                          "best_value": "Min",
                          "name": "RMSE"
                        }
                      ],
                      "launch_mode": "Train",
                      "parameters": "",
                      "iteration_count": 1000,
                      "learn_sets": [
                        "learn"
                      ],
                      "name": "experiment"
                    }
                  }
                }
              }
            },
            "layout": "IPY_MODEL_b30f1be892e246758ff04ad224f00424"
          }
        }
      }
    }
  },
  "cells": [
    {
      "cell_type": "markdown",
      "source": [
        "# DSN Free AI Classes in Every City 2025\n",
        "##  The Excellent Store Challenge\n",
        "### Solution by: `IHEANYI, FAVOUR CHISOM`"
      ],
      "metadata": {
        "id": "VhzFPlSQXs0o"
      }
    },
    {
      "cell_type": "markdown",
      "source": [
        "##Import the Libraries"
      ],
      "metadata": {
        "id": "9DwYJXSES996"
      }
    },
    {
      "cell_type": "code",
      "source": [
        "%pip install catboost"
      ],
      "metadata": {
        "id": "CZ8AZ2JpN59r",
        "outputId": "721bc326-cbe2-402c-c3c2-c72506da5928",
        "colab": {
          "base_uri": "https://localhost:8080/"
        }
      },
      "execution_count": 2,
      "outputs": [
        {
          "output_type": "stream",
          "name": "stdout",
          "text": [
            "Collecting catboost\n",
            "  Downloading catboost-1.2.8-cp311-cp311-manylinux2014_x86_64.whl.metadata (1.2 kB)\n",
            "Requirement already satisfied: graphviz in /usr/local/lib/python3.11/dist-packages (from catboost) (0.21)\n",
            "Requirement already satisfied: matplotlib in /usr/local/lib/python3.11/dist-packages (from catboost) (3.10.0)\n",
            "Requirement already satisfied: numpy<3.0,>=1.16.0 in /usr/local/lib/python3.11/dist-packages (from catboost) (2.0.2)\n",
            "Requirement already satisfied: pandas>=0.24 in /usr/local/lib/python3.11/dist-packages (from catboost) (2.2.2)\n",
            "Requirement already satisfied: scipy in /usr/local/lib/python3.11/dist-packages (from catboost) (1.15.3)\n",
            "Requirement already satisfied: plotly in /usr/local/lib/python3.11/dist-packages (from catboost) (5.24.1)\n",
            "Requirement already satisfied: six in /usr/local/lib/python3.11/dist-packages (from catboost) (1.17.0)\n",
            "Requirement already satisfied: python-dateutil>=2.8.2 in /usr/local/lib/python3.11/dist-packages (from pandas>=0.24->catboost) (2.9.0.post0)\n",
            "Requirement already satisfied: pytz>=2020.1 in /usr/local/lib/python3.11/dist-packages (from pandas>=0.24->catboost) (2025.2)\n",
            "Requirement already satisfied: tzdata>=2022.7 in /usr/local/lib/python3.11/dist-packages (from pandas>=0.24->catboost) (2025.2)\n",
            "Requirement already satisfied: contourpy>=1.0.1 in /usr/local/lib/python3.11/dist-packages (from matplotlib->catboost) (1.3.2)\n",
            "Requirement already satisfied: cycler>=0.10 in /usr/local/lib/python3.11/dist-packages (from matplotlib->catboost) (0.12.1)\n",
            "Requirement already satisfied: fonttools>=4.22.0 in /usr/local/lib/python3.11/dist-packages (from matplotlib->catboost) (4.58.4)\n",
            "Requirement already satisfied: kiwisolver>=1.3.1 in /usr/local/lib/python3.11/dist-packages (from matplotlib->catboost) (1.4.8)\n",
            "Requirement already satisfied: packaging>=20.0 in /usr/local/lib/python3.11/dist-packages (from matplotlib->catboost) (24.2)\n",
            "Requirement already satisfied: pillow>=8 in /usr/local/lib/python3.11/dist-packages (from matplotlib->catboost) (11.2.1)\n",
            "Requirement already satisfied: pyparsing>=2.3.1 in /usr/local/lib/python3.11/dist-packages (from matplotlib->catboost) (3.2.3)\n",
            "Requirement already satisfied: tenacity>=6.2.0 in /usr/local/lib/python3.11/dist-packages (from plotly->catboost) (8.5.0)\n",
            "Downloading catboost-1.2.8-cp311-cp311-manylinux2014_x86_64.whl (99.2 MB)\n",
            "\u001b[2K   \u001b[90m━━━━━━━━━━━━━━━━━━━━━━━━━━━━━━━━━━━━━━━━\u001b[0m \u001b[32m99.2/99.2 MB\u001b[0m \u001b[31m8.5 MB/s\u001b[0m eta \u001b[36m0:00:00\u001b[0m\n",
            "\u001b[?25hInstalling collected packages: catboost\n",
            "Successfully installed catboost-1.2.8\n"
          ]
        }
      ]
    },
    {
      "cell_type": "code",
      "source": [
        "import pandas as pd\n",
        "import numpy as np\n",
        "from catboost import CatBoostRegressor, Pool\n",
        "from sklearn.model_selection import train_test_split\n",
        "from sklearn.metrics import mean_squared_error\n",
        "from sklearn.preprocessing import LabelEncoder\n",
        "\n",
        "import torch"
      ],
      "metadata": {
        "id": "TwOZKMH9Y6oQ"
      },
      "execution_count": 3,
      "outputs": []
    },
    {
      "cell_type": "code",
      "source": [
        "# Setup rendom seed\n",
        "np.random.seed(42)"
      ],
      "metadata": {
        "id": "QtCHnvkaZVZJ"
      },
      "execution_count": 4,
      "outputs": []
    },
    {
      "cell_type": "code",
      "source": [
        "from google.colab import drive\n",
        "drive.mount('/content/drive')"
      ],
      "metadata": {
        "id": "ea9gEVTjbD53",
        "outputId": "911fb54b-81a9-409e-b298-c0d18fa79f24",
        "colab": {
          "base_uri": "https://localhost:8080/"
        }
      },
      "execution_count": 6,
      "outputs": [
        {
          "output_type": "stream",
          "name": "stdout",
          "text": [
            "Mounted at /content/drive\n"
          ]
        }
      ]
    },
    {
      "cell_type": "code",
      "source": [
        "# Load data\n",
        "train = pd.read_csv('/content/drive/MyDrive/train.csv')\n",
        "test = pd.read_csv('/content/drive/MyDrive/test.csv')\n",
        "samp_sub = pd.read_csv('/content/drive/MyDrive/SampleSubmission.csv')\n",
        "\n",
        "# Feature Engineering - Simplified approach\n",
        "def prepare_data(df):\n",
        "    df = df.copy()\n",
        "    # Split ID into components\n",
        "    df[['Item_Code', 'Store_Code']] = df['Item_Store_ID'].str.split('_', expand=True)\n",
        "    return df\n",
        "\n",
        "# Prepare data\n",
        "train = prepare_data(train)\n",
        "test = prepare_data(test)\n",
        "\n",
        "# Separate features and target\n",
        "X_train = train.drop(['Item_Store_Returns', 'Item_Store_ID'], axis=1)\n",
        "y_train = train['Item_Store_Returns']\n",
        "X_test = test.drop('Item_Store_ID', axis=1)\n",
        "\n",
        "# Identify categorical features - ALL string columns\n",
        "cat_features = list(X_train.select_dtypes(include=['object']).columns)\n",
        "\n",
        "# Convert all features to appropriate types\n",
        "for col in X_train.columns:\n",
        "    if col in cat_features:\n",
        "        X_train[col] = X_train[col].astype(str)\n",
        "        X_test[col] = X_test[col].astype(str)\n",
        "    else:\n",
        "        X_train[col] = pd.to_numeric(X_train[col], errors='coerce').fillna(0)\n",
        "        X_test[col] = pd.to_numeric(X_test[col], errors='coerce').fillna(0)\n",
        "\n",
        "# Split for validation\n",
        "X_train, X_val, y_train, y_val = train_test_split(\n",
        "    X_train, y_train, test_size=0.2, random_state=42\n",
        ")\n",
        "\n",
        "# Get categorical feature indices\n",
        "cat_features_indices = [i for i, col in enumerate(X_train.columns) if col in cat_features]\n",
        "\n",
        "# Initialize optimized CatBoost model (final corrected version)\n",
        "model = CatBoostRegressor(\n",
        "    iterations=1000,\n",
        "    learning_rate=0.075,\n",
        "    depth=8,\n",
        "    l2_leaf_reg=4,\n",
        "    random_strength=0.01,\n",
        "    border_count=128,\n",
        "    eval_metric='RMSE',\n",
        "    loss_function='RMSE',\n",
        "    random_seed=42,\n",
        "    cat_features=cat_features_indices,\n",
        "    grow_policy='SymmetricTree',  # Changed from Lossguide to work with Ordered boosting\n",
        "    bootstrap_type='Bayesian',\n",
        "    boosting_type='Ordered',  # Keep Ordered boosting for better accuracy\n",
        "    verbose=100,\n",
        "    early_stopping_rounds=100,\n",
        "    task_type='GPU' if torch.cuda.is_available() else 'CPU',\n",
        "    metric_period=50\n",
        ")\n",
        "\n",
        "# Training with proper data format\n",
        "train_pool = Pool(X_train, y_train, cat_features=cat_features_indices)\n",
        "val_pool = Pool(X_val, y_val, cat_features=cat_features_indices)\n",
        "\n",
        "model.fit(\n",
        "    train_pool,\n",
        "    eval_set=val_pool,\n",
        "    use_best_model=True,\n",
        "    plot=True\n",
        ")\n",
        "\n",
        "# Evaluate\n",
        "val_preds = model.predict(X_val)\n",
        "rmse = np.sqrt(mean_squared_error(y_val, val_preds))\n",
        "print(f\"Validation RMSE: {rmse:.4f}\")\n",
        "\n",
        "# Feature importance\n",
        "feature_importances = model.get_feature_importance()\n",
        "for score, name in sorted(zip(feature_importances, X_train.columns), reverse=True):\n",
        "    print(f\"{name}: {score}\")\n",
        "\n",
        "# Predict on test set\n",
        "test_preds = model.predict(X_test)\n",
        "\n",
        "# Prepare submission\n",
        "samp_sub['Item_Store_Returns'] = test_preds\n",
        "samp_sub.to_csv('/content/drive/MyDrive/cat_submission_9.csv', index=False)\n",
        "print(\"Submission file created!\")\n",
        "\n",
        "# Business insights\n",
        "print(\"\\nKey Insights for Chief Babatunji:\")\n",
        "print(\"1. Top factors affecting returns:\")\n",
        "print(f\"   - {X_train.columns[np.argmax(feature_importances)]} is the most important factor\")\n",
        "print(\"2. Store-specific patterns:\")\n",
        "print(\"   - Different stores show varying return patterns for the same products\")\n",
        "print(\"3. Product characteristics:\")\n",
        "print(\"   - Product type (prefix) significantly impacts returns\")\n",
        "print(f\"4. Model accuracy: Predictions are within ±{rmse:.2f} units on average\")"
      ],
      "metadata": {
        "colab": {
          "base_uri": "https://localhost:8080/",
          "height": 627,
          "referenced_widgets": [
            "a7ba83e4ee0d402287624ca1aacc4b7f"
          ]
        },
        "id": "6YdjOkREY3Ln",
        "outputId": "809af9b0-e3c5-46d4-de1d-81d58347e197"
      },
      "execution_count": 9,
      "outputs": [
        {
          "output_type": "display_data",
          "data": {
            "text/plain": [
              "MetricVisualizer(layout=Layout(align_self='stretch', height='500px'))"
            ],
            "application/vnd.jupyter.widget-view+json": {
              "version_major": 2,
              "version_minor": 0,
              "model_id": "a7ba83e4ee0d402287624ca1aacc4b7f"
            }
          },
          "metadata": {}
        },
        {
          "output_type": "stream",
          "name": "stderr",
          "text": [
            "Warning: Overfitting detector is active, thus evaluation metric is calculated on every iteration. 'metric_period' is ignored for evaluation metric.\n"
          ]
        },
        {
          "output_type": "stream",
          "name": "stdout",
          "text": [
            "0:\tlearn: 4279.9105274\ttest: 4215.1824396\tbest: 4215.1824396 (0)\ttotal: 73.7ms\tremaining: 1m 13s\n",
            "100:\tlearn: 2786.3330314\ttest: 2948.5619973\tbest: 2947.4069604 (99)\ttotal: 8.72s\tremaining: 1m 17s\n",
            "200:\tlearn: 2727.9241819\ttest: 2949.4712635\tbest: 2946.8159050 (108)\ttotal: 15.4s\tremaining: 1m 1s\n",
            "Stopped by overfitting detector  (100 iterations wait)\n",
            "\n",
            "bestTest = 2946.815905\n",
            "bestIteration = 108\n",
            "\n",
            "Shrink model to first 109 iterations.\n",
            "Validation RMSE: 2946.8159\n",
            "Item_Price: 33.528234686091146\n",
            "Store_ID: 27.95411674535164\n",
            "Store_Size: 21.624136238182217\n",
            "Store_Type: 3.7734998296194107\n",
            "Store_Code: 3.287687211485029\n",
            "Item_Type: 2.409760137559672\n",
            "Item_Sugar_Content: 2.2762964665936782\n",
            "Item_Weight: 2.002148823732065\n",
            "Item_Visibility: 1.8858291844763502\n",
            "Store_Location_Type: 0.7638875678951593\n",
            "Item_Code: 0.4227040818005052\n",
            "Store_Start_Year: 0.07169902721309496\n",
            "Item_ID: 0.0\n",
            "Submission file created!\n",
            "\n",
            "Key Insights for Chief Babatunji:\n",
            "1. Top factors affecting returns:\n",
            "   - Item_Price is the most important factor\n",
            "2. Store-specific patterns:\n",
            "   - Different stores show varying return patterns for the same products\n",
            "3. Product characteristics:\n",
            "   - Product type (prefix) significantly impacts returns\n",
            "4. Model accuracy: Predictions are within ±2946.82 units on average\n"
          ]
        }
      ]
    },
    {
      "cell_type": "code",
      "source": [],
      "metadata": {
        "id": "7Eg3f7pWaYUo"
      },
      "execution_count": null,
      "outputs": []
    }
  ]
}