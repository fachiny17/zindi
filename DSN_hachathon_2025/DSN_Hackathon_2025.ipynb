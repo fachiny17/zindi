{
  "nbformat": 4,
  "nbformat_minor": 0,
  "metadata": {
    "colab": {
      "provenance": []
    },
    "kernelspec": {
      "name": "python3",
      "display_name": "Python 3"
    },
    "language_info": {
      "name": "python"
    }
  },
  "cells": [
    {
      "cell_type": "markdown",
      "source": [
        "# DSN Free AI Classes in Every City 2025\n",
        "##  The Excellent Store Challenge\n",
        "### Solution by: `IHEANYI, FAVOUR CHISOM`"
      ],
      "metadata": {
        "id": "VhzFPlSQXs0o"
      }
    },
    {
      "cell_type": "markdown",
      "source": [
        "##Import the Libraries"
      ],
      "metadata": {
        "id": "9DwYJXSES996"
      }
    },
    {
      "cell_type": "code",
      "source": [
        "%pip install catboost"
      ],
      "metadata": {
        "id": "CZ8AZ2JpN59r",
        "outputId": "06f8c325-182d-4961-8be6-55f53c7f0a27",
        "colab": {
          "base_uri": "https://localhost:8080/"
        }
      },
      "execution_count": 1,
      "outputs": [
        {
          "output_type": "stream",
          "name": "stdout",
          "text": [
            "Requirement already satisfied: catboost in /usr/local/lib/python3.11/dist-packages (1.2.8)\n",
            "Requirement already satisfied: graphviz in /usr/local/lib/python3.11/dist-packages (from catboost) (0.21)\n",
            "Requirement already satisfied: matplotlib in /usr/local/lib/python3.11/dist-packages (from catboost) (3.10.0)\n",
            "Requirement already satisfied: numpy<3.0,>=1.16.0 in /usr/local/lib/python3.11/dist-packages (from catboost) (2.0.2)\n",
            "Requirement already satisfied: pandas>=0.24 in /usr/local/lib/python3.11/dist-packages (from catboost) (2.2.2)\n",
            "Requirement already satisfied: scipy in /usr/local/lib/python3.11/dist-packages (from catboost) (1.15.3)\n",
            "Requirement already satisfied: plotly in /usr/local/lib/python3.11/dist-packages (from catboost) (5.24.1)\n",
            "Requirement already satisfied: six in /usr/local/lib/python3.11/dist-packages (from catboost) (1.17.0)\n",
            "Requirement already satisfied: python-dateutil>=2.8.2 in /usr/local/lib/python3.11/dist-packages (from pandas>=0.24->catboost) (2.9.0.post0)\n",
            "Requirement already satisfied: pytz>=2020.1 in /usr/local/lib/python3.11/dist-packages (from pandas>=0.24->catboost) (2025.2)\n",
            "Requirement already satisfied: tzdata>=2022.7 in /usr/local/lib/python3.11/dist-packages (from pandas>=0.24->catboost) (2025.2)\n",
            "Requirement already satisfied: contourpy>=1.0.1 in /usr/local/lib/python3.11/dist-packages (from matplotlib->catboost) (1.3.2)\n",
            "Requirement already satisfied: cycler>=0.10 in /usr/local/lib/python3.11/dist-packages (from matplotlib->catboost) (0.12.1)\n",
            "Requirement already satisfied: fonttools>=4.22.0 in /usr/local/lib/python3.11/dist-packages (from matplotlib->catboost) (4.58.4)\n",
            "Requirement already satisfied: kiwisolver>=1.3.1 in /usr/local/lib/python3.11/dist-packages (from matplotlib->catboost) (1.4.8)\n",
            "Requirement already satisfied: packaging>=20.0 in /usr/local/lib/python3.11/dist-packages (from matplotlib->catboost) (24.2)\n",
            "Requirement already satisfied: pillow>=8 in /usr/local/lib/python3.11/dist-packages (from matplotlib->catboost) (11.2.1)\n",
            "Requirement already satisfied: pyparsing>=2.3.1 in /usr/local/lib/python3.11/dist-packages (from matplotlib->catboost) (3.2.3)\n",
            "Requirement already satisfied: tenacity>=6.2.0 in /usr/local/lib/python3.11/dist-packages (from plotly->catboost) (8.5.0)\n"
          ]
        }
      ]
    },
    {
      "cell_type": "code",
      "source": [
        "import pandas as pd\n",
        "import numpy as np\n",
        "from catboost import CatBoostRegressor, Pool\n",
        "from sklearn.model_selection import train_test_split\n",
        "from sklearn.metrics import mean_squared_error\n",
        "from sklearn.preprocessing import LabelEncoder"
      ],
      "metadata": {
        "id": "TwOZKMH9Y6oQ"
      },
      "execution_count": null,
      "outputs": []
    },
    {
      "cell_type": "code",
      "source": [
        "print(sklearn.__version__)"
      ],
      "metadata": {
        "id": "bd0Mhu2ZA__0",
        "outputId": "c3d19b88-9c10-4389-ba5e-1a441544c8f7",
        "colab": {
          "base_uri": "https://localhost:8080/",
          "height": 0
        }
      },
      "execution_count": 8,
      "outputs": [
        {
          "output_type": "stream",
          "name": "stdout",
          "text": [
            "1.6.1\n"
          ]
        }
      ]
    },
    {
      "cell_type": "code",
      "source": [
        "# Setup rendom seed\n",
        "np.random.seed(42)"
      ],
      "metadata": {
        "id": "QtCHnvkaZVZJ"
      },
      "execution_count": 9,
      "outputs": []
    },
    {
      "cell_type": "code",
      "source": [
        "from google.colab import drive\n",
        "drive.mount('/content/drive')"
      ],
      "metadata": {
        "id": "ea9gEVTjbD53",
        "outputId": "374bfc19-0d08-4961-84f8-d77d98a0c545",
        "colab": {
          "base_uri": "https://localhost:8080/",
          "height": 0
        }
      },
      "execution_count": 10,
      "outputs": [
        {
          "output_type": "stream",
          "name": "stdout",
          "text": [
            "Mounted at /content/drive\n"
          ]
        }
      ]
    },
    {
      "cell_type": "code",
      "source": [
        "# Load data\n",
        "train = pd.read_csv('/content/drive/MyDrive/train.csv')\n",
        "test = pd.read_csv('/content/drive/MyDrive/test.csv')\n",
        "samp_sub = pd.read_csv('/content/drive/MyDrive/SampleSubmission.csv')\n",
        "\n",
        "# Combine train and test for feature engineering (excluding target)\n",
        "data = pd.concat([train.drop(\"Item_Store_Returns\", axis=1), test], sort=False)\n",
        "\n",
        "# Feature Engineering\n",
        "# Extract components from Item_Store_ID\n",
        "data[['Item_Code', 'Store_Code']] = data['Item_Store_ID'].str.split('_', expand=True)\n",
        "\n",
        "# Extract store number from Store_Code\n",
        "data['Store_Number'] = data['Store_Code'].str.extract('(\\d+)').astype(int)\n",
        "\n",
        "# Extract item prefix and numbers\n",
        "data['Item_Prefix'] = data['Item_Code'].str.extract('([A-Z]+)')\n",
        "data['Item_Number'] = data['Item_Code'].str.extract('(\\d+)').astype(float)\n",
        "\n",
        "# Label encoding for categorical features\n",
        "cat_features = ['Item_Prefix', 'Store_Code']\n",
        "for feature in cat_features:\n",
        "    le = LabelEncoder()\n",
        "    data[feature] = le.fit_transform(data[feature])\n",
        "\n",
        "# Split back into train and test\n",
        "train_features = data.iloc[:len(train)]\n",
        "test_features = data.iloc[len(train):]\n",
        "\n",
        "# Prepare target\n",
        "y = train['Item_Store_Returns']\n",
        "\n",
        "# Split train data for validation\n",
        "X_train, X_val, y_train, y_val = train_test_split(\n",
        "    train_features, y, test_size=0.2, random_state=42\n",
        ")\n",
        "\n",
        "# Identify categorical features indices\n",
        "cat_features_indices = [train_features.columns.get_loc(col) for col in cat_features]\n",
        "\n",
        "# Create CatBoost pools\n",
        "train_pool = Pool(X_train, y_train, cat_features=cat_features_indices)\n",
        "val_pool = Pool(X_val, y_val, cat_features=cat_features_indices)\n",
        "\n",
        "# Initialize and train CatBoostRegressor\n",
        "model = CatBoostRegressor(\n",
        "    iterations=1000,\n",
        "    learning_rate=0.1,\n",
        "    depth=6,\n",
        "    eval_metric='RMSE',\n",
        "    random_seed=42,\n",
        "    verbose=100\n",
        ")\n",
        "\n",
        "model.fit(\n",
        "    train_pool,\n",
        "    eval_set=val_pool,\n",
        "    early_stopping_rounds=50,\n",
        "    use_best_model=True\n",
        ")\n",
        "\n",
        "# Make predictions on validation set\n",
        "val_preds = model.predict(X_val)\n",
        "rmse = np.sqrt(mean_squared_error(y_val, val_preds))\n",
        "print(f\"Validation RMSE: {rmse:.4f}\")\n",
        "\n",
        "# Feature importance\n",
        "feature_importances = model.get_feature_importance()\n",
        "feature_names = X_train.columns\n",
        "for score, name in sorted(zip(feature_importances, feature_names), reverse=True):\n",
        "    print(f\"{name}: {score}\")\n",
        "\n",
        "# Make predictions on test set\n",
        "test_preds = model.predict(test_features)\n",
        "\n",
        "# Prepare submission\n",
        "samp_sub['Item_Store_Returns'] = test_preds\n",
        "samp_sub.to_csv('submission.csv', index=False)\n",
        "print(\"Submission file created!\")\n",
        "\n",
        "# Explain to Chief Babatunji\n",
        "print(\"\\nKey Insights for Chief Babatunji:\")\n",
        "print(\"1. The model shows that returns vary based on:\")\n",
        "print(\"   - Store location (Store_Code and Store_Number are important features)\")\n",
        "print(\"   - Product type (Item_Prefix has high importance)\")\n",
        "print(\"2. The same product yields different returns because:\")\n",
        "print(\"   - Different stores have different customer demographics\")\n",
        "print(\"   - Store size and age likely affect product performance\")\n",
        "print(\"   - Regional preferences impact product popularity\")\n",
        "print(f\"3. Our model achieved RMSE of {rmse:.2f}, meaning we can predict returns within ±{rmse:.2f} units on average\")"
      ],
      "metadata": {
        "id": "6YdjOkREY3Ln"
      },
      "execution_count": null,
      "outputs": []
    }
  ]
}