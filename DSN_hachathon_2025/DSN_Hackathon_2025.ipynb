{
  "nbformat": 4,
  "nbformat_minor": 0,
  "metadata": {
    "colab": {
      "provenance": []
    },
    "kernelspec": {
      "name": "python3",
      "display_name": "Python 3"
    },
    "language_info": {
      "name": "python"
    }
  },
  "cells": [
    {
      "cell_type": "markdown",
      "source": [
        "# DSN Free AI Classes in Every City 2025\n",
        "##  The Excellent Store Challenge\n",
        "### Solution by: `IHEANYI, FAVOUR CHISOM`"
      ],
      "metadata": {
        "id": "VhzFPlSQXs0o"
      }
    },
    {
      "cell_type": "markdown",
      "source": [
        "##Import the Libraries"
      ],
      "metadata": {
        "id": "9DwYJXSES996"
      }
    },
    {
      "cell_type": "code",
      "source": [
        "%pip install catboost"
      ],
      "metadata": {
        "id": "CZ8AZ2JpN59r",
        "outputId": "1507c20a-341f-46a3-a893-b1628137f4a9",
        "colab": {
          "base_uri": "https://localhost:8080/"
        }
      },
      "execution_count": 1,
      "outputs": [
        {
          "output_type": "stream",
          "name": "stdout",
          "text": [
            "Requirement already satisfied: catboost in /usr/local/lib/python3.11/dist-packages (1.2.8)\n",
            "Requirement already satisfied: graphviz in /usr/local/lib/python3.11/dist-packages (from catboost) (0.21)\n",
            "Requirement already satisfied: matplotlib in /usr/local/lib/python3.11/dist-packages (from catboost) (3.10.0)\n",
            "Requirement already satisfied: numpy<3.0,>=1.16.0 in /usr/local/lib/python3.11/dist-packages (from catboost) (2.0.2)\n",
            "Requirement already satisfied: pandas>=0.24 in /usr/local/lib/python3.11/dist-packages (from catboost) (2.2.2)\n",
            "Requirement already satisfied: scipy in /usr/local/lib/python3.11/dist-packages (from catboost) (1.15.3)\n",
            "Requirement already satisfied: plotly in /usr/local/lib/python3.11/dist-packages (from catboost) (5.24.1)\n",
            "Requirement already satisfied: six in /usr/local/lib/python3.11/dist-packages (from catboost) (1.17.0)\n",
            "Requirement already satisfied: python-dateutil>=2.8.2 in /usr/local/lib/python3.11/dist-packages (from pandas>=0.24->catboost) (2.9.0.post0)\n",
            "Requirement already satisfied: pytz>=2020.1 in /usr/local/lib/python3.11/dist-packages (from pandas>=0.24->catboost) (2025.2)\n",
            "Requirement already satisfied: tzdata>=2022.7 in /usr/local/lib/python3.11/dist-packages (from pandas>=0.24->catboost) (2025.2)\n",
            "Requirement already satisfied: contourpy>=1.0.1 in /usr/local/lib/python3.11/dist-packages (from matplotlib->catboost) (1.3.2)\n",
            "Requirement already satisfied: cycler>=0.10 in /usr/local/lib/python3.11/dist-packages (from matplotlib->catboost) (0.12.1)\n",
            "Requirement already satisfied: fonttools>=4.22.0 in /usr/local/lib/python3.11/dist-packages (from matplotlib->catboost) (4.58.4)\n",
            "Requirement already satisfied: kiwisolver>=1.3.1 in /usr/local/lib/python3.11/dist-packages (from matplotlib->catboost) (1.4.8)\n",
            "Requirement already satisfied: packaging>=20.0 in /usr/local/lib/python3.11/dist-packages (from matplotlib->catboost) (24.2)\n",
            "Requirement already satisfied: pillow>=8 in /usr/local/lib/python3.11/dist-packages (from matplotlib->catboost) (11.2.1)\n",
            "Requirement already satisfied: pyparsing>=2.3.1 in /usr/local/lib/python3.11/dist-packages (from matplotlib->catboost) (3.2.3)\n",
            "Requirement already satisfied: tenacity>=6.2.0 in /usr/local/lib/python3.11/dist-packages (from plotly->catboost) (8.5.0)\n"
          ]
        }
      ]
    },
    {
      "cell_type": "code",
      "source": [
        "import pandas as pd\n",
        "import numpy as np\n",
        "from catboost import CatBoostRegressor, Pool\n",
        "from sklearn.model_selection import train_test_split\n",
        "from sklearn.metrics import mean_squared_error\n",
        "from sklearn.preprocessing import LabelEncoder"
      ],
      "metadata": {
        "id": "TwOZKMH9Y6oQ"
      },
      "execution_count": 2,
      "outputs": []
    },
    {
      "cell_type": "code",
      "source": [
        "# Setup rendom seed\n",
        "np.random.seed(42)"
      ],
      "metadata": {
        "id": "QtCHnvkaZVZJ"
      },
      "execution_count": 3,
      "outputs": []
    },
    {
      "cell_type": "code",
      "source": [
        "from google.colab import drive\n",
        "drive.mount('/content/drive')"
      ],
      "metadata": {
        "id": "ea9gEVTjbD53",
        "outputId": "7ae05583-f26f-4fec-b24b-01e7e62b4719",
        "colab": {
          "base_uri": "https://localhost:8080/"
        }
      },
      "execution_count": 4,
      "outputs": [
        {
          "output_type": "stream",
          "name": "stdout",
          "text": [
            "Drive already mounted at /content/drive; to attempt to forcibly remount, call drive.mount(\"/content/drive\", force_remount=True).\n"
          ]
        }
      ]
    },
    {
      "cell_type": "code",
      "source": [
        "# Load data\n",
        "train = pd.read_csv('/content/drive/MyDrive/train.csv')\n",
        "test = pd.read_csv('/content/drive/MyDrive/test.csv')\n",
        "samp_sub = pd.read_csv('/content/drive/MyDrive/SampleSubmission.csv')\n",
        "\n",
        "# Feature Engineering - Simplified approach\n",
        "def prepare_data(df):\n",
        "    df = df.copy()\n",
        "    # Split ID into components\n",
        "    df[['Item_Code', 'Store_Code']] = df['Item_Store_ID'].str.split('_', expand=True)\n",
        "    return df\n",
        "\n",
        "# Prepare data\n",
        "train = prepare_data(train)\n",
        "test = prepare_data(test)\n",
        "\n",
        "# Separate features and target\n",
        "X_train = train.drop(['Item_Store_Returns', 'Item_Store_ID'], axis=1)\n",
        "y_train = train['Item_Store_Returns']\n",
        "X_test = test.drop('Item_Store_ID', axis=1)\n",
        "\n",
        "# Identify categorical features - ALL string columns\n",
        "cat_features = list(X_train.select_dtypes(include=['object']).columns)\n",
        "\n",
        "# Convert all features to appropriate types\n",
        "for col in X_train.columns:\n",
        "    if col in cat_features:\n",
        "        X_train[col] = X_train[col].astype(str)\n",
        "        X_test[col] = X_test[col].astype(str)\n",
        "    else:\n",
        "        X_train[col] = pd.to_numeric(X_train[col], errors='coerce').fillna(0)\n",
        "        X_test[col] = pd.to_numeric(X_test[col], errors='coerce').fillna(0)\n",
        "\n",
        "# Split for validation\n",
        "X_train, X_val, y_train, y_val = train_test_split(\n",
        "    X_train, y_train, test_size=0.2, random_state=42\n",
        ")\n",
        "\n",
        "# Get categorical feature indices\n",
        "cat_features_indices = [i for i, col in enumerate(X_train.columns) if col in cat_features]\n",
        "\n",
        "# Initialize CatBoost with explicit categorical features\n",
        "model = CatBoostRegressor(\n",
        "    iterations=1000,\n",
        "    learning_rate=0.1,\n",
        "    depth=8,\n",
        "    eval_metric='RMSE',\n",
        "    random_seed=42,\n",
        "    cat_features=cat_features_indices,\n",
        "    verbose=100\n",
        ")\n",
        "\n",
        "# Train model directly with categorical features specified\n",
        "model.fit(\n",
        "    X_train, y_train,\n",
        "    eval_set=(X_val, y_val),\n",
        "    early_stopping_rounds=50,\n",
        "    use_best_model=True\n",
        ")\n",
        "\n",
        "# Evaluate\n",
        "val_preds = model.predict(X_val)\n",
        "rmse = np.sqrt(mean_squared_error(y_val, val_preds))\n",
        "print(f\"Validation RMSE: {rmse:.4f}\")\n",
        "\n",
        "# Feature importance\n",
        "feature_importances = model.get_feature_importance()\n",
        "for score, name in sorted(zip(feature_importances, X_train.columns), reverse=True):\n",
        "    print(f\"{name}: {score}\")\n",
        "\n",
        "# Predict on test set\n",
        "test_preds = model.predict(X_test)\n",
        "\n",
        "# Prepare submission\n",
        "samp_sub['Item_Store_Returns'] = test_preds\n",
        "samp_sub.to_csv('/content/drive/MyDrive/cat_submission_3.csv', index=False)\n",
        "print(\"Submission file created!\")\n",
        "\n",
        "# Business insights\n",
        "print(\"\\nKey Insights for Chief Babatunji:\")\n",
        "print(\"1. Top factors affecting returns:\")\n",
        "print(f\"   - {X_train.columns[np.argmax(feature_importances)]} is the most important factor\")\n",
        "print(\"2. Store-specific patterns:\")\n",
        "print(\"   - Different stores show varying return patterns for the same products\")\n",
        "print(\"3. Product characteristics:\")\n",
        "print(\"   - Product type (prefix) significantly impacts returns\")\n",
        "print(f\"4. Model accuracy: Predictions are within ±{rmse:.2f} units on average\")"
      ],
      "metadata": {
        "colab": {
          "base_uri": "https://localhost:8080/"
        },
        "id": "6YdjOkREY3Ln",
        "outputId": "41064010-961f-4ece-803b-34ed56cfca23"
      },
      "execution_count": 12,
      "outputs": [
        {
          "output_type": "stream",
          "name": "stdout",
          "text": [
            "0:\tlearn: 4237.7858051\ttest: 4170.0519432\tbest: 4170.0519432 (0)\ttotal: 104ms\tremaining: 1m 43s\n",
            "100:\tlearn: 2637.9779514\ttest: 2949.7183870\tbest: 2944.5699909 (76)\ttotal: 4.8s\tremaining: 42.8s\n",
            "Stopped by overfitting detector  (50 iterations wait)\n",
            "\n",
            "bestTest = 2944.569991\n",
            "bestIteration = 76\n",
            "\n",
            "Shrink model to first 77 iterations.\n",
            "Validation RMSE: 2944.5700\n",
            "Item_Price: 34.61743535701613\n",
            "Store_ID: 17.271934420796\n",
            "Store_Code: 11.213743167722098\n",
            "Store_Size: 7.207523513394518\n",
            "Item_Type: 6.535110250631018\n",
            "Store_Type: 6.330926585018165\n",
            "Store_Location_Type: 5.440890034988252\n",
            "Item_Sugar_Content: 2.865427212570094\n",
            "Item_ID: 2.460086003107878\n",
            "Item_Visibility: 2.232683077197129\n",
            "Item_Code: 2.2246837789304306\n",
            "Item_Weight: 1.3360700768281861\n",
            "Store_Start_Year: 0.26348652180009324\n",
            "Submission file created!\n",
            "\n",
            "Key Insights for Chief Babatunji:\n",
            "1. Top factors affecting returns:\n",
            "   - Item_Price is the most important factor\n",
            "2. Store-specific patterns:\n",
            "   - Different stores show varying return patterns for the same products\n",
            "3. Product characteristics:\n",
            "   - Product type (prefix) significantly impacts returns\n",
            "4. Model accuracy: Predictions are within ±2944.57 units on average\n"
          ]
        }
      ]
    },
    {
      "cell_type": "code",
      "source": [],
      "metadata": {
        "id": "7Eg3f7pWaYUo"
      },
      "execution_count": null,
      "outputs": []
    }
  ]
}