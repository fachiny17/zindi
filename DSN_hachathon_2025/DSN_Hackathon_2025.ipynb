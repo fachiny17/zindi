{
  "nbformat": 4,
  "nbformat_minor": 0,
  "metadata": {
    "colab": {
      "provenance": []
    },
    "kernelspec": {
      "name": "python3",
      "display_name": "Python 3"
    },
    "language_info": {
      "name": "python"
    }
  },
  "cells": [
    {
      "cell_type": "markdown",
      "source": [
        "# DSN Free AI Classes in Every City 2025\n",
        "##  The Excellent Store Challenge\n",
        "### Solution by: `IHEANYI, FAVOUR CHISOM`"
      ],
      "metadata": {
        "id": "VhzFPlSQXs0o"
      }
    },
    {
      "cell_type": "markdown",
      "source": [
        "##Import the Libraries"
      ],
      "metadata": {
        "id": "9DwYJXSES996"
      }
    },
    {
      "cell_type": "code",
      "source": [
        "%pip install catboost"
      ],
      "metadata": {
        "id": "CZ8AZ2JpN59r",
        "outputId": "62ab8290-c025-4bda-99d6-79fbb0e11671",
        "colab": {
          "base_uri": "https://localhost:8080/"
        }
      },
      "execution_count": null,
      "outputs": [
        {
          "output_type": "stream",
          "name": "stdout",
          "text": [
            "Requirement already satisfied: catboost in /usr/local/lib/python3.11/dist-packages (1.2.8)\n",
            "Requirement already satisfied: graphviz in /usr/local/lib/python3.11/dist-packages (from catboost) (0.21)\n",
            "Requirement already satisfied: matplotlib in /usr/local/lib/python3.11/dist-packages (from catboost) (3.10.0)\n",
            "Requirement already satisfied: numpy<3.0,>=1.16.0 in /usr/local/lib/python3.11/dist-packages (from catboost) (2.0.2)\n",
            "Requirement already satisfied: pandas>=0.24 in /usr/local/lib/python3.11/dist-packages (from catboost) (2.2.2)\n",
            "Requirement already satisfied: scipy in /usr/local/lib/python3.11/dist-packages (from catboost) (1.15.3)\n",
            "Requirement already satisfied: plotly in /usr/local/lib/python3.11/dist-packages (from catboost) (5.24.1)\n",
            "Requirement already satisfied: six in /usr/local/lib/python3.11/dist-packages (from catboost) (1.17.0)\n",
            "Requirement already satisfied: python-dateutil>=2.8.2 in /usr/local/lib/python3.11/dist-packages (from pandas>=0.24->catboost) (2.9.0.post0)\n",
            "Requirement already satisfied: pytz>=2020.1 in /usr/local/lib/python3.11/dist-packages (from pandas>=0.24->catboost) (2025.2)\n",
            "Requirement already satisfied: tzdata>=2022.7 in /usr/local/lib/python3.11/dist-packages (from pandas>=0.24->catboost) (2025.2)\n",
            "Requirement already satisfied: contourpy>=1.0.1 in /usr/local/lib/python3.11/dist-packages (from matplotlib->catboost) (1.3.2)\n",
            "Requirement already satisfied: cycler>=0.10 in /usr/local/lib/python3.11/dist-packages (from matplotlib->catboost) (0.12.1)\n",
            "Requirement already satisfied: fonttools>=4.22.0 in /usr/local/lib/python3.11/dist-packages (from matplotlib->catboost) (4.58.4)\n",
            "Requirement already satisfied: kiwisolver>=1.3.1 in /usr/local/lib/python3.11/dist-packages (from matplotlib->catboost) (1.4.8)\n",
            "Requirement already satisfied: packaging>=20.0 in /usr/local/lib/python3.11/dist-packages (from matplotlib->catboost) (24.2)\n",
            "Requirement already satisfied: pillow>=8 in /usr/local/lib/python3.11/dist-packages (from matplotlib->catboost) (11.2.1)\n",
            "Requirement already satisfied: pyparsing>=2.3.1 in /usr/local/lib/python3.11/dist-packages (from matplotlib->catboost) (3.2.3)\n",
            "Requirement already satisfied: tenacity>=6.2.0 in /usr/local/lib/python3.11/dist-packages (from plotly->catboost) (8.5.0)\n",
            "Requirement already satisfied: catboost in /usr/local/lib/python3.11/dist-packages (1.2.8)\n",
            "Requirement already satisfied: graphviz in /usr/local/lib/python3.11/dist-packages (from catboost) (0.21)\n",
            "Requirement already satisfied: matplotlib in /usr/local/lib/python3.11/dist-packages (from catboost) (3.10.0)\n",
            "Requirement already satisfied: numpy<3.0,>=1.16.0 in /usr/local/lib/python3.11/dist-packages (from catboost) (2.0.2)\n",
            "Requirement already satisfied: pandas>=0.24 in /usr/local/lib/python3.11/dist-packages (from catboost) (2.2.2)\n",
            "Requirement already satisfied: scipy in /usr/local/lib/python3.11/dist-packages (from catboost) (1.15.3)\n",
            "Requirement already satisfied: plotly in /usr/local/lib/python3.11/dist-packages (from catboost) (5.24.1)\n",
            "Requirement already satisfied: six in /usr/local/lib/python3.11/dist-packages (from catboost) (1.17.0)\n",
            "Requirement already satisfied: python-dateutil>=2.8.2 in /usr/local/lib/python3.11/dist-packages (from pandas>=0.24->catboost) (2.9.0.post0)\n",
            "Requirement already satisfied: pytz>=2020.1 in /usr/local/lib/python3.11/dist-packages (from pandas>=0.24->catboost) (2025.2)\n",
            "Requirement already satisfied: tzdata>=2022.7 in /usr/local/lib/python3.11/dist-packages (from pandas>=0.24->catboost) (2025.2)\n",
            "Requirement already satisfied: contourpy>=1.0.1 in /usr/local/lib/python3.11/dist-packages (from matplotlib->catboost) (1.3.2)\n",
            "Requirement already satisfied: cycler>=0.10 in /usr/local/lib/python3.11/dist-packages (from matplotlib->catboost) (0.12.1)\n",
            "Requirement already satisfied: fonttools>=4.22.0 in /usr/local/lib/python3.11/dist-packages (from matplotlib->catboost) (4.58.4)\n",
            "Requirement already satisfied: kiwisolver>=1.3.1 in /usr/local/lib/python3.11/dist-packages (from matplotlib->catboost) (1.4.8)\n",
            "Requirement already satisfied: packaging>=20.0 in /usr/local/lib/python3.11/dist-packages (from matplotlib->catboost) (24.2)\n",
            "Requirement already satisfied: pillow>=8 in /usr/local/lib/python3.11/dist-packages (from matplotlib->catboost) (11.2.1)\n",
            "Requirement already satisfied: pyparsing>=2.3.1 in /usr/local/lib/python3.11/dist-packages (from matplotlib->catboost) (3.2.3)\n",
            "Requirement already satisfied: tenacity>=6.2.0 in /usr/local/lib/python3.11/dist-packages (from plotly->catboost) (8.5.0)\n"
          ]
        }
      ]
    },
    {
      "cell_type": "code",
      "source": [
        "import pandas as pd\n",
        "import numpy as np\n",
        "from catboost import CatBoostRegressor, Pool\n",
        "from sklearn.model_selection import train_test_split\n",
        "from sklearn.metrics import mean_squared_error\n",
        "from sklearn.preprocessing import LabelEncoder"
      ],
      "metadata": {
        "id": "TwOZKMH9Y6oQ"
      },
      "execution_count": null,
      "outputs": []
    },
    {
      "cell_type": "code",
      "source": [
        "# Setup rendom seed\n",
        "np.random.seed(42)"
      ],
      "metadata": {
        "id": "QtCHnvkaZVZJ"
      },
      "execution_count": null,
      "outputs": []
    },
    {
      "cell_type": "code",
      "source": [
        "from google.colab import drive\n",
        "drive.mount('/content/drive')"
      ],
      "metadata": {
        "id": "ea9gEVTjbD53",
        "outputId": "608487bb-aafa-4f39-f9c6-207150f68183",
        "colab": {
          "base_uri": "https://localhost:8080/"
        }
      },
      "execution_count": null,
      "outputs": [
        {
          "output_type": "stream",
          "name": "stdout",
          "text": [
            "Drive already mounted at /content/drive; to attempt to forcibly remount, call drive.mount(\"/content/drive\", force_remount=True).\n",
            "Drive already mounted at /content/drive; to attempt to forcibly remount, call drive.mount(\"/content/drive\", force_remount=True).\n"
          ]
        }
      ]
    },
    {
      "cell_type": "code",
      "source": [
        "# Load data\n",
        "train = pd.read_csv('/content/drive/MyDrive/train.csv')\n",
        "test = pd.read_csv('/content/drive/MyDrive/test.csv')\n",
        "samp_sub = pd.read_csv('/content/drive/MyDrive/SampleSubmission.csv')\n",
        "\n",
        "# Feature Engineering - Simplified approach\n",
        "def prepare_data(df):\n",
        "    df = df.copy()\n",
        "    # Split ID into components\n",
        "    df[['Item_Code', 'Store_Code']] = df['Item_Store_ID'].str.split('_', expand=True)\n",
        "    return df\n",
        "\n",
        "# Prepare data\n",
        "train = prepare_data(train)\n",
        "test = prepare_data(test)\n",
        "\n",
        "# Separate features and target\n",
        "X_train = train.drop(['Item_Store_Returns', 'Item_Store_ID'], axis=1)\n",
        "y_train = train['Item_Store_Returns']\n",
        "X_test = test.drop('Item_Store_ID', axis=1)\n",
        "\n",
        "# Identify categorical features - ALL string columns\n",
        "cat_features = list(X_train.select_dtypes(include=['object']).columns)\n",
        "\n",
        "# Convert all features to appropriate types\n",
        "for col in X_train.columns:\n",
        "    if col in cat_features:\n",
        "        X_train[col] = X_train[col].astype(str)\n",
        "        X_test[col] = X_test[col].astype(str)\n",
        "    else:\n",
        "        X_train[col] = pd.to_numeric(X_train[col], errors='coerce').fillna(0)\n",
        "        X_test[col] = pd.to_numeric(X_test[col], errors='coerce').fillna(0)\n",
        "\n",
        "# Split for validation\n",
        "X_train, X_val, y_train, y_val = train_test_split(\n",
        "    X_train, y_train, test_size=0.2, random_state=42\n",
        ")\n",
        "\n",
        "# Get categorical feature indices\n",
        "cat_features_indices = [i for i, col in enumerate(X_train.columns) if col in cat_features]\n",
        "\n",
        "# Initialize CatBoost with explicit categorical features\n",
        "model = CatBoostRegressor(\n",
        "    iterations=1000,\n",
        "    learning_rate=0.0075,\n",
        "    depth=8,\n",
        "    eval_metric='RMSE',\n",
        "    random_seed=42,\n",
        "    cat_features=cat_features_indices,\n",
        "    verbose=100\n",
        ")\n",
        "\n",
        "# Train model directly with categorical features specified\n",
        "model.fit(\n",
        "    X_train, y_train,\n",
        "    eval_set=(X_val, y_val),\n",
        "    early_stopping_rounds=50,\n",
        "    use_best_model=True\n",
        ")\n",
        "\n",
        "# Evaluate\n",
        "val_preds = model.predict(X_val)\n",
        "rmse = np.sqrt(mean_squared_error(y_val, val_preds))\n",
        "print(f\"Validation RMSE: {rmse:.4f}\")\n",
        "\n",
        "# Feature importance\n",
        "feature_importances = model.get_feature_importance()\n",
        "for score, name in sorted(zip(feature_importances, X_train.columns), reverse=True):\n",
        "    print(f\"{name}: {score}\")\n",
        "\n",
        "# Predict on test set\n",
        "test_preds = model.predict(X_test)\n",
        "\n",
        "# # Prepare submission\n",
        "# samp_sub['Item_Store_Returns'] = test_preds\n",
        "# samp_sub.to_csv('/content/drive/MyDrive/cat_submission_6.csv', index=False)\n",
        "# print(\"Submission file created!\")\n",
        "\n",
        "# Business insights\n",
        "print(\"\\nKey Insights for Chief Babatunji:\")\n",
        "print(\"1. Top factors affecting returns:\")\n",
        "print(f\"   - {X_train.columns[np.argmax(feature_importances)]} is the most important factor\")\n",
        "print(\"2. Store-specific patterns:\")\n",
        "print(\"   - Different stores show varying return patterns for the same products\")\n",
        "print(\"3. Product characteristics:\")\n",
        "print(\"   - Product type (prefix) significantly impacts returns\")\n",
        "print(f\"4. Model accuracy: Predictions are within ±{rmse:.2f} units on average\")"
      ],
      "metadata": {
        "colab": {
          "base_uri": "https://localhost:8080/"
        },
        "id": "6YdjOkREY3Ln",
        "outputId": "7f05693e-960e-4fe1-b5da-6ab796b76395"
      },
      "execution_count": 11,
      "outputs": [
        {
          "output_type": "stream",
          "name": "stdout",
          "text": [
            "0:\tlearn: 4444.2579035\ttest: 4371.4581373\tbest: 4371.4581373 (0)\ttotal: 21.8ms\tremaining: 21.8s\n",
            "100:\tlearn: 3394.8065539\ttest: 3384.2306310\tbest: 3384.2306310 (100)\ttotal: 3.94s\tremaining: 35.1s\n",
            "200:\tlearn: 3052.3420687\ttest: 3090.2402919\tbest: 3090.2402919 (200)\ttotal: 9.29s\tremaining: 36.9s\n",
            "300:\tlearn: 2936.9361000\ttest: 3004.7566507\tbest: 3004.7566507 (300)\ttotal: 13.1s\tremaining: 30.3s\n",
            "400:\tlearn: 2882.4377700\ttest: 2974.6959928\tbest: 2974.6959928 (400)\ttotal: 17s\tremaining: 25.5s\n",
            "500:\tlearn: 2846.9000702\ttest: 2962.6017815\tbest: 2962.6017815 (500)\ttotal: 23.4s\tremaining: 23.4s\n",
            "600:\tlearn: 2815.6332984\ttest: 2957.8296181\tbest: 2957.8296181 (600)\ttotal: 27.4s\tremaining: 18.2s\n",
            "700:\tlearn: 2787.1777923\ttest: 2954.2734905\tbest: 2954.2356201 (699)\ttotal: 31s\tremaining: 13.2s\n",
            "800:\tlearn: 2758.6819940\ttest: 2951.1972730\tbest: 2951.1972730 (800)\ttotal: 36.3s\tremaining: 9.02s\n",
            "900:\tlearn: 2732.8265900\ttest: 2949.0859937\tbest: 2949.0859937 (900)\ttotal: 41.9s\tremaining: 4.6s\n",
            "999:\tlearn: 2708.3058852\ttest: 2947.5515145\tbest: 2947.2631777 (967)\ttotal: 45.6s\tremaining: 0us\n",
            "\n",
            "bestTest = 2947.263178\n",
            "bestIteration = 967\n",
            "\n",
            "Shrink model to first 968 iterations.\n",
            "Validation RMSE: 2947.2632\n",
            "Item_Price: 33.612753790277786\n",
            "Store_ID: 18.060687291865563\n",
            "Store_Code: 15.293095957316135\n",
            "Store_Type: 5.694321501194285\n",
            "Item_Type: 5.08476682592149\n",
            "Store_Size: 4.832015438808423\n",
            "Store_Location_Type: 4.486001448528283\n",
            "Item_Code: 3.4638828224873253\n",
            "Item_Sugar_Content: 2.8576370030057627\n",
            "Item_Weight: 2.1190727452069256\n",
            "Item_ID: 1.8255856821203957\n",
            "Item_Visibility: 1.781817533055133\n",
            "Store_Start_Year: 0.8883619602123151\n",
            "\n",
            "Key Insights for Chief Babatunji:\n",
            "1. Top factors affecting returns:\n",
            "   - Item_Price is the most important factor\n",
            "2. Store-specific patterns:\n",
            "   - Different stores show varying return patterns for the same products\n",
            "3. Product characteristics:\n",
            "   - Product type (prefix) significantly impacts returns\n",
            "4. Model accuracy: Predictions are within ±2947.26 units on average\n"
          ]
        }
      ]
    },
    {
      "cell_type": "code",
      "source": [
        ""
      ],
      "metadata": {
        "id": "7Eg3f7pWaYUo"
      },
      "execution_count": null,
      "outputs": []
    }
  ]
}